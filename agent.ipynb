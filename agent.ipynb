{
 "cells": [
  {
   "cell_type": "code",
   "execution_count": 2,
   "id": "f2c93ae0-4dba-4e8c-b236-aaf7924553a4",
   "metadata": {},
   "outputs": [
    {
     "data": {
      "text/plain": [
       "True"
      ]
     },
     "execution_count": 2,
     "metadata": {},
     "output_type": "execute_result"
    }
   ],
   "source": [
    "from dotenv import load_dotenv\n",
    "load_dotenv()"
   ]
  },
  {
   "cell_type": "code",
   "execution_count": 3,
   "id": "ca00c768",
   "metadata": {},
   "outputs": [
    {
     "name": "stdout",
     "output_type": "stream",
     "text": [
      "================================\u001b[1m Human Message \u001b[0m=================================\n",
      "\n",
      "Hello there! My name is Ivan and I live in Yekaterinburg, Russia. Anything you'd like to share about yourself?\n",
      "==================================\u001b[1m Ai Message \u001b[0m==================================\n",
      "\n",
      "Hello, Ivan! It’s great to meet you! I’m an AI assistant here to help with anything you need—whether it’s answering questions, providing recommendations, solving problems, or just having a fun conversation. While I don’t have a physical presence or personal experiences like humans do, I’m designed to learn, adapt, and provide useful and engaging information.\n",
      "\n",
      "Yekaterinburg is such an interesting city! It’s known for its rich history, beautiful architecture, and being a cultural hub in Russia. If you ever want to chat about local attractions, history, or anything else, I’d love to help!\n",
      "\n",
      "What’s on your mind today? 😊\n"
     ]
    }
   ],
   "source": [
    "from langchain_mistralai import ChatMistralAI\n",
    "from langgraph.checkpoint.memory import MemorySaver\n",
    "from langchain_tavily import TavilySearch\n",
    "from langgraph.prebuilt import create_react_agent\n",
    "from langchain_core.messages import HumanMessage\n",
    "\n",
    "model = ChatMistralAI(model=\"mistral-large-latest\")\n",
    "memory = MemorySaver()\n",
    "search = TavilySearch(max_results=2)\n",
    "tools = [search]\n",
    "\n",
    "agent = create_react_agent(model=model, tools=tools, checkpointer=memory)\n",
    "config = {\"configurable\": {\"thread_id\": \"me123\"}}\n",
    "\n",
    "initial_message = HumanMessage(\"Hello there! My name is Ivan and I live in Yekaterinburg, Russia. Anything you'd like to share about yourself?\")\n",
    "for step in agent.stream(\n",
    "    {\"messages\": [initial_message]}, config, stream_mode=\"values\"\n",
    "):\n",
    "    step[\"messages\"][-1].pretty_print()\n"
   ]
  },
  {
   "cell_type": "code",
   "execution_count": 4,
   "id": "7fa5b54b",
   "metadata": {},
   "outputs": [
    {
     "name": "stdout",
     "output_type": "stream",
     "text": [
      "================================\u001b[1m Human Message \u001b[0m=================================\n",
      "\n",
      "By any chance, could you tell me if it's jacket-cold outside in my city right now?\n",
      "==================================\u001b[1m Ai Message \u001b[0m==================================\n",
      "Tool Calls:\n",
      "  tavily_search (TcOxI00dB)\n",
      " Call ID: TcOxI00dB\n",
      "  Args:\n",
      "    query: current weather in Yekaterinburg Russia\n",
      "    search_depth: basic\n",
      "    topic: news\n",
      "=================================\u001b[1m Tool Message \u001b[0m=================================\n",
      "Name: tavily_search\n",
      "\n",
      "{\"query\": \"current weather in Yekaterinburg Russia\", \"follow_up_questions\": null, \"answer\": null, \"images\": [], \"results\": [{\"url\": \"https://www.wavy.com/hr-show/hrs-training-and-educating-a-future-ready-workforce/\", \"title\": \"HRS: Training and educating a future ready workforce - WAVY.com\", \"score\": 0.063302755, \"published_date\": \"Wed, 13 Aug 2025 16:04:09 GMT\", \"content\": \"Image 9: Traditional Russian wooden dolls called Matryoshka depicting Soviet Leader Josef Stalin, left, Russian President Vladimir Putin, center, and U.S. President Donald Trump are displayed for sale at a souvenir shop in Moscow, Russia, Tuesday, Aug. 12, 2025. Image 11: FILE - Russian President Vladimir Putin, left, and North Korea's leader Kim Jong Un, foreground right, attend a welcome ceremony in Kim Il Sung Square in Pyongyang, North Korea, on June 19, 2024. Image 20: Traditional Russian wooden dolls called Matryoshka depicting Soviet Leader Josef Stalin, left, Russian President Vladimir Putin, center, and U.S. President Donald Trump are displayed for sale at a souvenir shop in Moscow, Russia, Tuesday, Aug. 12, 2025. Image 41: WAVY ##### Hampton Roads Virginia and Northeastern North Carolina News, Weather, Traffic and Sports.\", \"raw_content\": null}, {\"url\": \"https://www.usatoday.com/story/news/weather/2025/08/08/rip-current-forecast-weekend-hurricane-season/85541331007/\", \"title\": \"Hurricane season heats up; danger possible at East Coast beaches - USA Today\", \"score\": 0.046677228, \"published_date\": \"Fri, 08 Aug 2025 11:59:21 GMT\", \"content\": \"Marine forecasters also were still watching Dexter, the former tropical storm about 1,000 miles east of Cape Cod. And the full moon on Aug. 9 could add to the effect of rip currents and waves. For example, earlier this year, the National Hurricane Center launched a rip current graphic to illustrate the dangers associated with tropical storms, even when they're long distances away. Over a 10-year period, about 10-15% of all deaths in tropical storms and hurricanes were attributed to rip currents, the hurricane center said. Click here for more information- | [AdAd](https://www.usatoday.com/story/news/weather/2025/08/08/rip-current-forecast-weekend-hurricane-season/85541331007/ \\\"Click here for more information\\\") Tropical Storm Dexter forecast to re-intensify USA TODAY Would you like to know more?- | [AdAd](https://www.usatoday.com/story/news/weather/2025/08/08/rip-current-forecast-weekend-hurricane-season/85541331007/ \\\"Would you like to know more?\\\")\", \"raw_content\": null}], \"response_time\": 0.36}\n",
      "==================================\u001b[1m Ai Message \u001b[0m==================================\n",
      "Tool Calls:\n",
      "  tavily_search (2ayeTNtVb)\n",
      " Call ID: 2ayeTNtVb\n",
      "  Args:\n",
      "    query: Yekaterinburg Russia current temperature\n",
      "    search_depth: basic\n",
      "=================================\u001b[1m Tool Message \u001b[0m=================================\n",
      "Name: tavily_search\n",
      "\n",
      "{\"query\": \"Yekaterinburg Russia current temperature\", \"follow_up_questions\": null, \"answer\": null, \"images\": [], \"results\": [{\"url\": \"https://www.accuweather.com/en/ru/yekaterinburg/295863/current-weather/295863\", \"title\": \"Yekaterinburg, Sverdlovsk, Russia Current Weather | AccuWeather\", \"content\": \"Current Weather. 6:26 AM. 56°F. Cloudy. RealFeel® 59°. Cool. RealFeel Guide. Cool. 53° to 62°. Light jacket or sweater may be appropriate.\", \"score\": 0.8568246, \"raw_content\": null}, {\"url\": \"https://weather.com/weather/today/l/3db160ccca2e87bb5f8c2a1e067b143c15b2cfe6df9d2dfc9f54297ab643ecec\", \"title\": \"Hourly Weather-Yekaterinburg, Sverdlovsk, Russia\", \"content\": \"Hourly Weather-Yekaterinburg, Sverdlovsk, Russia ; Now. Mostly Sunny. 74 ; 8 pm. Partly Cloudy. 71 ; 9 pm. Partly Cloudy. 67 ; 10 pm. Mostly Clear. 63\", \"score\": 0.79901963, \"raw_content\": null}], \"response_time\": 1.19}\n",
      "==================================\u001b[1m Ai Message \u001b[0m==================================\n",
      "\n",
      "It looks like the current temperature in Yekaterinburg is around **13°C (56°F)**, with cloudy conditions. A **light jacket or sweater** would likely be appropriate for the weather right now. Stay cozy! 😊\n"
     ]
    }
   ],
   "source": [
    "message = HumanMessage(\"By any chance, could you tell me if it's jacket-cold outside in my city right now?\")\n",
    "for step in agent.stream(\n",
    "    {\"messages\": [message]}, config, stream_mode=\"values\"\n",
    "):\n",
    "    step[\"messages\"][-1].pretty_print()\n"
   ]
  },
  {
   "cell_type": "code",
   "execution_count": null,
   "id": "806b9684",
   "metadata": {},
   "outputs": [],
   "source": []
  }
 ],
 "metadata": {
  "kernelspec": {
   "display_name": "Python 3 (ipykernel)",
   "language": "python",
   "name": "python3"
  },
  "language_info": {
   "codemirror_mode": {
    "name": "ipython",
    "version": 3
   },
   "file_extension": ".py",
   "mimetype": "text/x-python",
   "name": "python",
   "nbconvert_exporter": "python",
   "pygments_lexer": "ipython3",
   "version": "3.13.5"
  }
 },
 "nbformat": 4,
 "nbformat_minor": 5
}
