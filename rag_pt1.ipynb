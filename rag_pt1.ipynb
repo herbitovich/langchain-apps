{
 "cells": [
  {
   "cell_type": "markdown",
   "id": "4adb8a41",
   "metadata": {},
   "source": [
    "## Goal: build an Agent that, given a question, conductes a search query in the vector storage, then, gives an answer provided the found context.\n",
    "Note: This is a simple implementation, meaning that the retrieval process isn't structured like a conditional tool call."
   ]
  },
  {
   "cell_type": "code",
   "execution_count": 3,
   "id": "660f83c5",
   "metadata": {},
   "outputs": [
    {
     "data": {
      "text/plain": [
       "True"
      ]
     },
     "execution_count": 3,
     "metadata": {},
     "output_type": "execute_result"
    }
   ],
   "source": [
    "from dotenv import load_dotenv\n",
    "load_dotenv()"
   ]
  },
  {
   "cell_type": "code",
   "execution_count": 4,
   "id": "0a6c57e3",
   "metadata": {},
   "outputs": [],
   "source": [
    "from langchain_mistralai import ChatMistralAI, MistralAIEmbeddings\n",
    "from langchain_core.prompts import ChatPromptTemplate, MessagesPlaceholder\n",
    "from langchain_core.vectorstores import InMemoryVectorStore\n",
    "from langgraph.checkpoint.memory import InMemorySaver\n",
    "from langgraph.graph import START, StateGraph\n",
    "from langchain_community.document_loaders import PyPDFLoader\n",
    "from langchain_text_splitters import RecursiveCharacterTextSplitter"
   ]
  },
  {
   "cell_type": "code",
   "execution_count": 9,
   "id": "ee17b9eb",
   "metadata": {},
   "outputs": [
    {
     "name": "stdout",
     "output_type": "stream",
     "text": [
      "203\n"
     ]
    }
   ],
   "source": [
    "loader = PyPDFLoader(\"Molmo.pdf\")\n",
    "docs = loader.load()\n",
    "splitter = RecursiveCharacterTextSplitter(chunk_size=1000, chunk_overlap=200, add_start_index=True)\n",
    "all_splits = splitter.split_documents(docs)\n",
    "print(len(all_splits))\n",
    "embeddings = MistralAIEmbeddings(model=\"mistral-embed\")\n",
    "vector_store = InMemoryVectorStore(embeddings)\n",
    "_ = vector_store.add_documents(all_splits)"
   ]
  },
  {
   "cell_type": "code",
   "execution_count": 12,
   "id": "f25cba87",
   "metadata": {},
   "outputs": [],
   "source": [
    "from pydantic import BaseModel, Field\n",
    "from typing import TypedDict, Optional, List\n",
    "from langchain_core.documents import Document\n",
    "from typing_extensions import Annotated, Sequence\n",
    "from langchain_core.messages import BaseMessage, SystemMessage, HumanMessage\n",
    "\n",
    "class Search(BaseModel):\n",
    "    query: Optional[str] = Field(description=\"Search query constructed from the user's request. If not needed, leave blank.\")\n",
    "\n",
    "class State(TypedDict):\n",
    "    query: str\n",
    "    context: List[Document]\n",
    "    question: str\n",
    "    answer: str\n",
    "\n",
    "llm = ChatMistralAI(model=\"mistral-large-latest\")\n",
    "llm_search = llm.with_structured_output(Search)\n",
    "\n",
    "search_template = ChatPromptTemplate.from_messages([\n",
    "    SystemMessage(\"Turn the user's question into an effective search query.\"),\n",
    "    (\"user\", \"{content}\")\n",
    "])\n",
    "\n",
    "answer_template = ChatPromptTemplate.from_messages([\n",
    "    SystemMessage(\"You are a helpful AI assistant. Your task is to assist the user with their quesiton, using the context provided to you. If you don't know the answer, just say that you don't know. Keep your answer concise.\"),\n",
    "    (\"user\", \n",
    "    \"\"\"\n",
    "    CONTEXT:\n",
    "    {context} \n",
    "    QUESTION:\n",
    "    {question}\n",
    "    ANSWER:\n",
    "    \"\"\")\n",
    "])\n",
    "\n",
    "def retrieve(state: State):\n",
    "    search_prompt = search_template.invoke({\"content\":state[\"question\"]})\n",
    "    query = llm_search.invoke(search_prompt).model_dump()[\"query\"]\n",
    "    if query:\n",
    "        print(\"Search conducted\")\n",
    "        docs = vector_store.similarity_search(query)\n",
    "        context = \"\\n\\n\".join([doc.page_content for doc in docs])\n",
    "    else:\n",
    "        print(\"No search conducted\")\n",
    "        context = \"NO CONTEXT\"\n",
    "    return {\"query\": query, \"context\": context}\n",
    "\n",
    "def call_model(state: State):\n",
    "    answer_prompt = answer_template.invoke({\"context\": state[\"context\"], \"question\": state[\"question\"]})\n",
    "    answer = llm.invoke(answer_prompt)\n",
    "    return {\"answer\": answer.content}\n",
    "\n",
    "workflow = StateGraph(State)\n",
    "workflow.add_edge(START, \"retrieve\")\n",
    "workflow.add_node(\"retrieve\", retrieve)\n",
    "workflow.add_edge(\"retrieve\", \"call_model\")\n",
    "workflow.add_node(\"call_model\", call_model)\n",
    "\n",
    "config = {\"configurable\": {\"thread_id\": {\"rag1337\"}}}\n",
    "memory = InMemorySaver()\n",
    "app = workflow.compile(checkpointer=memory)\n"
   ]
  },
  {
   "cell_type": "code",
   "execution_count": null,
   "id": "b0c9fcf8",
   "metadata": {},
   "outputs": [
    {
     "name": "stdout",
     "output_type": "stream",
     "text": [
      "Search conducted\n",
      "MolmoAct is an **open-source action reasoning model (ARM)** for robotic manipulation, designed to bridge perception and purposeful action through reasoning. It builds on **Molmo** (a vision-language model) and extends it to generate **grounded action sequences** for robots, improving adaptability, generalization, and explainability.\n",
      "\n",
      "Key features:\n",
      "- **Strong performance**: Outperforms baselines (e.g., GR00T, RT-1) on benchmarks like **LIBERO** and **SimplerEnv**, and excels in human evaluations.\n",
      "- **Explainability**: Provides visual reasoning traces for transparent decision-making.\n",
      "- **Fully open-source**: Releases model weights, training code, and datasets.\n",
      "- **Modular design**: Combines vision encoders (e.g., **SigLIP2**, **CLIP**) with LLMs (e.g., **Qwen2.5-7B**, **OLMo-7B**).\n",
      "- **Best model**: **MolmoAct-7B-D** (SigLIP2 + Qwen2.5-7B); most open variant: **MolmoAct-7B-O** (CLIP + OLMo).\n",
      "\n",
      "Goal: Serve as a blueprint for robots that reason before acting. More details: [AllenAI Blog](https://allenai.org/blog/molmoact).\n"
     ]
    }
   ],
   "source": [
    "question = \"Hey there! Do you know what MolmoAct is?\"\n",
    "output = app.invoke({\"question\": question}, config)\n",
    "print(output[\"answer\"])"
   ]
  },
  {
   "cell_type": "code",
   "execution_count": 18,
   "id": "3f6487f8",
   "metadata": {},
   "outputs": [
    {
     "name": "stdout",
     "output_type": "stream",
     "text": [
      "MolmoAct’s structured design delivers both strong performance and high explainability. On standard\n",
      "benchmarks such as LIBERO and SimplerEnv (Google Robot),MolmoAct consistently outperforms compet-\n",
      "itive baselines includingGR00T N1(NVIDIA et al., 2025),π0 and π0-FAST (Black et al.), RT-1 (Brohan\n",
      "et al., 2022), and TraceVLA (Zheng et al., 2024). In arena-style human evaluations for open-ended language\n",
      "instruction following,MolmoAct is preferred over baselines, achieving significantly higher Elo ratings. The\n",
      "model adapts to novel tasks more effectively through lightweight fine-tuning, surpassing other strong baselines\n",
      "in efficiency. Moreover, it generalizes well to diverse environments and task perturbations in both simulation\n",
      "and real-world settings. Its visual reasoning traces offer an explainable view into the model’s decision-making,\n",
      "while also enabling direct action steering by editing trajectory lines—an approach we find more reliable than\n",
      "\n",
      "while also enabling direct action steering by editing trajectory lines—an approach we find more reliable than\n",
      "language commands, which can suffer from ambiguity.\n",
      "MolmoAct is fully open in every aspect: we release the model weights, training code, and all components of\n",
      "our action reasoning dataset. We aim forMolmoAct to be more than a high-performing robotics foundation\n",
      "model that serves as a blueprint for building agents that reason, transforming perception into purposeful\n",
      "action through reasoning.\n",
      "2 MolmoAct\n",
      "MolmoAct is a fully open-source action reasoning model (ARM) for robotic manipulation. It builds on\n",
      "Molmo (Deitke et al., 2024), reusing its vision–language backbone composed of a vision encoder, a vision–\n",
      "language connector, and a large language model (LLM). While Molmo supports chain-of-thought reasoning\n",
      "for language and vision,MolmoAct extends this capability to generate grounded action sequences. The\n",
      "\n",
      "3. Vision–language Connector: pools and projects patch features into the LLM embedding space.\n",
      "4. LLM: autoregressively processes vision and text tokens.\n",
      "From this templateMolmoAct instantiates a family of models by selecting a vision encoder and an LLM while\n",
      "keeping the training recipe mainly consistent. Vision encoders include OpenAI ViT-L/14 336px CLIP and ViT-\n",
      "SO400M/14 384px SigLIP2. LLM backbones include fully open OLMo-2-1124-7B and open-weight Qwen2.5-7B.\n",
      "With the combination of ViT-SO400M/14 384px SigLIP2 with Qwen2.5-7B, we haveMolmoAct-7B-D, our\n",
      "best and demo model. With the combination of OpenAI ViT-L/14 336px CLIP with OLMo-2-1124-7B, we\n",
      "have MolmoAct-7B-O, our most open model. Note that although OpenAI ViT-L/14 336px CLIP uses\n",
      "closed data, it can be reproduced from scratch, as shown by MetaCLIP (Xu et al., 2024a).\n",
      "A.2 Image Encoding and Cropping\n",
      "Most ViTs accept square images at a fixed resolution, which is insufficient for fine-grained details. This\n",
      "\n",
      "MolmoAct\n",
      "Action Reasoning Models that can Reason in Space\n",
      "Jason Lee♥1,2∗ Jiafei Duan♥1,2∗ Haoquan Fang♥1,2∗\n",
      "Yuquan Deng♥1 Shuo Liu♥1,2 Boyang Li♥2 Bohan Fang♥2 Jieyu Zhang♥1,2 Yi Ru Wang♥1,2\n",
      "Sangho Lee 1 Winson Han 1 Wilbert Pumacay 1 Angelica Wu 2 Rose Hendrix 1 Karen Farley 1\n",
      "Eli VanderBilt1\n",
      "Ali Farhadi1,2 Dieter Fox♥1,2 Ranjay Krishna♥1,2\n",
      "1Allen Institute for AI,2University of Washington\n",
      "∗denotes equal contribution in no particular order.♥marks core contributors. See full author contributions here.\n",
      "MolmoAct: MolmoAct-7B-D-Pretrain-0812 MolmoAct-7B-D-0812 MolmoAct-7B-O-0812\n",
      "MolmoAct Data: MolmoAct-Dataset MolmoAct-Pretraining-Datasets MolmoAct-Midtraining-Datasets\n",
      "Blog: allenai.org/blog/molmoact\n",
      "Abstract\n",
      "Reasoning is central to purposeful action, yet most robotic foundation models map perception and\n",
      "instructions directly to control, which limits adaptability, generalization, and semantic grounding. We\n"
     ]
    }
   ],
   "source": [
    "print(output[\"context\"])"
   ]
  },
  {
   "cell_type": "code",
   "execution_count": 19,
   "id": "e3671930",
   "metadata": {},
   "outputs": [
    {
     "name": "stdout",
     "output_type": "stream",
     "text": [
      "MolmoAct definition and overview\n"
     ]
    }
   ],
   "source": [
    "print(output[\"query\"])"
   ]
  },
  {
   "cell_type": "code",
   "execution_count": 20,
   "id": "cfa0fd21",
   "metadata": {},
   "outputs": [
    {
     "data": {
      "image/png": "[encoded data removed]",
      "text/plain": [
       "<langgraph.graph.state.CompiledStateGraph object at 0x7fa3bb86ad50>"
      ]
     },
     "execution_count": 20,
     "metadata": {},
     "output_type": "execute_result"
    }
   ],
   "source": [
    "app"
   ]
  },
  {
   "cell_type": "code",
   "execution_count": 21,
   "id": "0cf7922f",
   "metadata": {},
   "outputs": [
    {
     "name": "stdout",
     "output_type": "stream",
     "text": [
      "No search conducted\n",
      "Hello! I'm just a virtual assistant, so I don't have feelings, but I'm here and ready to help you. How about you?\n"
     ]
    }
   ],
   "source": [
    "question = \"Hey there! How are you?\"\n",
    "output = app.invoke({\"question\": question}, config)\n",
    "print(output[\"answer\"])"
   ]
  }
 ],
 "metadata": {
  "kernelspec": {
   "display_name": "langchain_venv",
   "language": "python",
   "name": "python3"
  },
  "language_info": {
   "codemirror_mode": {
    "name": "ipython",
    "version": 3
   },
   "file_extension": ".py",
   "mimetype": "text/x-python",
   "name": "python",
   "nbconvert_exporter": "python",
   "pygments_lexer": "ipython3",
   "version": "3.13.5"
  }
 },
 "nbformat": 4,
 "nbformat_minor": 5
}
