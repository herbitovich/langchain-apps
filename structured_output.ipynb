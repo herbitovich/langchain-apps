{
 "cells": [
  {
   "cell_type": "code",
   "execution_count": 1,
   "id": "c6aa4421-3108-4c58-8c23-e78ce896a235",
   "metadata": {},
   "outputs": [
    {
     "data": {
      "text/plain": [
       "True"
      ]
     },
     "execution_count": 1,
     "metadata": {},
     "output_type": "execute_result"
    }
   ],
   "source": [
    "from dotenv import load_dotenv\n",
    "load_dotenv()"
   ]
  },
  {
   "cell_type": "code",
   "execution_count": 4,
   "id": "4e9929b8-efaf-49d4-a291-30091f9bd294",
   "metadata": {},
   "outputs": [],
   "source": [
    "from langchain_mistralai import ChatMistralAI\n",
    "model = ChatMistralAI(model=\"mistral-large-latest\")"
   ]
  },
  {
   "cell_type": "code",
   "execution_count": 7,
   "id": "397676fe-8a0f-480a-b2aa-78c423bcce57",
   "metadata": {},
   "outputs": [],
   "source": [
    "from langchain_core.prompts import ChatPromptTemplate\n",
    "from pydantic import BaseModel, Field"
   ]
  },
  {
   "cell_type": "code",
   "execution_count": 10,
   "id": "b7938aac-52d2-409e-b1ac-66013236fde6",
   "metadata": {},
   "outputs": [
    {
     "data": {
      "text/plain": [
       "Classify(direction='up', slope=9)"
      ]
     },
     "execution_count": 10,
     "metadata": {},
     "output_type": "execute_result"
    }
   ],
   "source": [
    "class Classify(BaseModel):\n",
    "    direction: str = Field(description=\"The predicted direction of the stock price movement\", enum=[\"up\", \"down\"])\n",
    "    slope: int = Field(description=\"The predicted radicality of the stock price movement on the scale from 1 to 10, where 1 is 'random flunctuation' and 10 is 'certain, almost vertical slope'\")\n",
    "\n",
    "template = ChatPromptTemplate.from_template(\"\"\"\n",
    "Your task is to predict some properties of a time series given you by the user. \n",
    "\n",
    "Only extract the properties mentioned in the 'Classification' function.\n",
    "\n",
    "Time series:\n",
    "{inp}\n",
    "\"\"\")\n",
    "\n",
    "structured_llm = model.with_structured_output(Classify)\n",
    "prompt = template.invoke({\"inp\": \"1 100 98 200 198 300\"})\n",
    "\n",
    "response = structured_llm.invoke(prompt)\n",
    "response"
   ]
  },
  {
   "cell_type": "code",
   "execution_count": 11,
   "id": "9e2a9f42-e6e5-40a5-a4a6-c320661fea2d",
   "metadata": {},
   "outputs": [],
   "source": [
    "from langchain_community.document_loaders import PyPDFLoader"
   ]
  },
  {
   "cell_type": "code",
   "execution_count": 12,
   "id": "1e60dea2-a373-436d-987b-89e9f2f57c17",
   "metadata": {},
   "outputs": [
    {
     "data": {
      "text/plain": [
       "'Matvey Kamenev\\n+7 (922) 244-99-77 | mvkamenev@edu.hse.ru | t.me/rumatstone | github.com/herbitovich\\nEducation\\nHigher School of Economics Saint-Petersburg, Russia\\nBachelor of Applied Data Analysis and Artificial Intelligence Sep. 2024 – June 2028\\nHigher School of Economics Lyceum Perm, Russia\\nMathematics and computer science advanced studies class Sep. 2022 – June 2024\\nExperience\\nLLM Researcher Apr. 2024 – Present\\nPISH (VK&HSE Project Lab) Saint-Petersburg, Russia\\n• Developed a cross-architecture adapter module, which allowed HuggingFace models integration into the\\nexperimentation framework\\n• Conducted and interpreted 30+ architecture experiments on multiple tasks and benchmarks to evaluate\\ndifferent models’ performance\\n• Explored various methods of linear-time attention architectures\\n• Read, analyzed and proposed new architecture-improving ideas based on 10+ NLP arxiv papers\\nNLP Machine Learning Engineer Sep. 2024 – Feb. 2025\\nNDA outsourcing Saint-Petersburg, Russia\\n• Developed and trained production-grade models, including fine-tuning BERT\\nusing spaCy for token classification\\n• Processed and normalized the client’s data, generated synthetic data based on it\\n• Designed an end-to-end model pipeline for successful API integration\\nPython Backend Developer Dec. 2022 – May 2024\\nFreelance Perm, Russia\\n• Developed various web applications using the Django w/ PostgreSQL stack\\n• Integrated a pipeline for an open-source text classification model inference for an E-Commerce app\\n• Built and maintained a scalable testing platform for hosting a regional natural sciences competition\\nProjects\\nLM Alignment | Python, Jupyter, HuggingFace API, PyTorch, Git Feb. 2025\\n• Implemented the REINFORCE algorithm as an LM alignment method\\n• Imported and processed an open source HF dataset for RLHF\\n• Evaluated the aligned model using the test dataset split\\n• Open-sourced the project on Git\\nGLA | Python, PyTorch, Git Mar. 2025\\n• Implemented the Gated Linear Attention Transformer architecture from scratch\\n• Integrated a GPT-2 tokenizer into the preprocessing workflow\\n• Developed the training workflow using the C4 open-source dataset\\n• Open-sourced the project on Git\\nTechnical Skills\\nLanguages: Python, C++, SQL (Postgres)\\nFrameworks: PyTorch, TensorFlow, FastAI, FastAPI, Django, Django REST, Flask\\nDeveloper Tools: Git, Docker\\nLibraries: pandas, polars, NumPy, Matplotlib, albumentations, LangChain, spaCy'"
      ]
     },
     "execution_count": 12,
     "metadata": {},
     "output_type": "execute_result"
    }
   ],
   "source": [
    "loader = PyPDFLoader('/home/herb/Documents/private/MLE_CV.pdf')\n",
    "doc = loader.load()[0]\n",
    "doc.page_content"
   ]
  },
  {
   "cell_type": "code",
   "execution_count": 16,
   "id": "d085df26-c33c-4260-97d7-0abb0499ce31",
   "metadata": {},
   "outputs": [
    {
     "data": {
      "text/plain": [
       "{'name': 'Matvey Kamenev',\n",
       " 'employment_history': [{'company_name': 'PISH (VK&HSE Project Lab)',\n",
       "   'position_name': 'LLM Researcher',\n",
       "   'duration': 5},\n",
       "  {'company_name': 'NDA outsourcing',\n",
       "   'position_name': 'NLP Machine Learning Engineer',\n",
       "   'duration': 5},\n",
       "  {'company_name': None,\n",
       "   'position_name': 'Python Backend Developer',\n",
       "   'duration': 17}],\n",
       " 'total_experience': 27}"
      ]
     },
     "execution_count": 16,
     "metadata": {},
     "output_type": "execute_result"
    }
   ],
   "source": [
    "from typing import List, Optional\n",
    "\n",
    "class Occupation(BaseModel):\n",
    "    \"\"\"Information about one of the applicant's places of employment.\"\"\"\n",
    "    company_name: Optional[str] = Field(description=\"Name of the company. Output null if the provided information is not a real legal entity, like 'Personal Project'.\")\n",
    "    position_name: str = Field(description=\"Name of the position that the applicant has/had in the company.\")\n",
    "    duration: int = Field(description=\"Number of months that the applicant has/had been working in the company.\")\n",
    "class Person(BaseModel):\n",
    "    \"\"\"Information about the applicant and their working experience\"\"\"\n",
    "    name: Optional[str] = Field(desciption=\"Full name of the applicant. Output null if not provided.\")\n",
    "    employment_history: List[Occupation] = Field(desciption=\"The whole employment history of the applicant.\")\n",
    "    total_experience: int = Field(desciption=\"Total working experience duration in months. Output 0 if not provided.\")\n",
    "screener = model.with_structured_output(Person)\n",
    "template = ChatPromptTemplate.from_messages(\n",
    "    [(\"system\", \"You are to extract the information about a job applicant. Follow the provided schema.\"),\n",
    "     (\"user\", \"Here is the job application that I want you to scrape for the relevant info:\\n{application}\")]\n",
    ")\n",
    "\n",
    "prompt = template.invoke({\"application\": doc.page_content})\n",
    "res = screener.invoke(prompt)\n",
    "res.model_dump()"
   ]
  },
  {
   "cell_type": "code",
   "execution_count": null,
   "id": "91d824e3-a8b0-4291-abb7-fa7246761827",
   "metadata": {},
   "outputs": [],
   "source": []
  }
 ],
 "metadata": {
  "kernelspec": {
   "display_name": "langchain_venv",
   "language": "python",
   "name": "langchain_venv"
  },
  "language_info": {
   "codemirror_mode": {
    "name": "ipython",
    "version": 3
   },
   "file_extension": ".py",
   "mimetype": "text/x-python",
   "name": "python",
   "nbconvert_exporter": "python",
   "pygments_lexer": "ipython3",
   "version": "3.13.5"
  }
 },
 "nbformat": 4,
 "nbformat_minor": 5
}
