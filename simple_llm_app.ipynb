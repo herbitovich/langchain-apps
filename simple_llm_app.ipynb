{
 "cells": [
  {
   "cell_type": "code",
   "execution_count": 7,
   "id": "4c3ed430-a13c-42a8-8cce-1015e5af4b1f",
   "metadata": {},
   "outputs": [
    {
     "data": {
      "text/plain": [
       "True"
      ]
     },
     "execution_count": 7,
     "metadata": {},
     "output_type": "execute_result"
    }
   ],
   "source": [
    "from dotenv import load_dotenv\n",
    "load_dotenv()"
   ]
  },
  {
   "cell_type": "code",
   "execution_count": 9,
   "id": "08925d01-e857-4f43-b1b6-86ad460427b7",
   "metadata": {},
   "outputs": [],
   "source": [
    "from langchain.chat_models import init_chat_model\n",
    "\n",
    "model = init_chat_model(\"codestral-2405\", model_provider=\"mistralai\")"
   ]
  },
  {
   "cell_type": "code",
   "execution_count": 10,
   "id": "b0f247c5-2a76-458d-81e1-acedd1c172de",
   "metadata": {},
   "outputs": [],
   "source": [
    "from langchain_core.messages import SystemMessage, HumanMessage\n",
    "\n",
    "messages = [\n",
    "    SystemMessage(\"Your task is to implement in code any function the user describes. Use C++. Always try to find the most optimal solution.\"),\n",
    "    HumanMessage(\"Hey man! Could you help me code a function that calculates the factorial of a given number?\")\n",
    "]\n",
    "\n",
    "res = model.invoke(messages)"
   ]
  },
  {
   "cell_type": "code",
   "execution_count": 17,
   "id": "b8b1b7c2-7d10-4bd9-8831-82e6308e358e",
   "metadata": {},
   "outputs": [
    {
     "data": {
      "text/markdown": [
       "Sure thing! The factorial of a non-negative integer n is the product of all positive integers less than or equal to n. The factorial of 0 is defined as 1. Here's a C++ function to calculate the factorial of a given number:\n",
       "\n",
       "```cpp\n",
       "#include <iostream>\n",
       "#include <stdexcept>\n",
       "\n",
       "// Function to calculate the factorial of a given number\n",
       "unsigned long long factorial(int n) {\n",
       "    if (n < 0) {\n",
       "        throw std::invalid_argument(\"Factorial is not defined for negative numbers.\");\n",
       "    }\n",
       "\n",
       "    unsigned long long result = 1;\n",
       "    for (int i = 2; i <= n; ++i) {\n",
       "        result *= i;\n",
       "    }\n",
       "    return result;\n",
       "}\n",
       "\n",
       "int main() {\n",
       "    int number;\n",
       "    std::cout << \"Enter a non-negative integer: \";\n",
       "    std::cin >> number;\n",
       "\n",
       "    try {\n",
       "        unsigned long long fact = factorial(number);\n",
       "        std::cout << \"Factorial of \" << number << \" is \" << fact << std::endl;\n",
       "    } catch (const std::invalid_argument& e) {\n",
       "        std::cerr << \"Error: \" << e.what() << std::endl;\n",
       "    }\n",
       "\n",
       "    return 0;\n",
       "}\n",
       "```\n",
       "\n",
       "### Explanation:\n",
       "1. **Function `factorial`**:\n",
       "   - **Input Validation**: The function first checks if the input number is negative. If it is, it throws an `invalid_argument` exception.\n",
       "   - **Initialization**: The result is initialized to 1 because the factorial of 0 is 1.\n",
       "   - **Loop**: A loop runs from 2 to the given number, multiplying each integer with the result to compute the factorial.\n",
       "\n",
       "2. **Main Function**:\n",
       "   - **User Input**: The user is prompted to enter a non-negative integer.\n",
       "   - **Exception Handling**: The function call is wrapped in a try-catch block to handle any exceptions thrown by the `factorial` function.\n",
       "   - **Output**: The result is printed if the input is valid; otherwise, an error message is displayed.\n",
       "\n",
       "This implementation is efficient with a time complexity of O(n) and uses a loop to compute the factorial iteratively. It also includes basic error handling to ensure the input is valid."
      ],
      "text/plain": [
       "<IPython.core.display.Markdown object>"
      ]
     },
     "metadata": {},
     "output_type": "display_data"
    }
   ],
   "source": [
    "from IPython.display import display, Markdown\n",
    "display(Markdown(res.content))"
   ]
  },
  {
   "cell_type": "code",
   "execution_count": 19,
   "id": "7448801a-4667-4ec1-91c1-c3256583db72",
   "metadata": {},
   "outputs": [
    {
     "name": "stdout",
     "output_type": "stream",
     "text": [
      "Sure thing! The factorial of a non-negative integer n is the product of all positive integers less than or equal to n. The factorial of 0 is defined as 1. Here's a C++ function to calculate the factorial of a given number:\n",
      "\n",
      "```cpp\n",
      "#include <iostream>\n",
      "#include <stdexcept>\n",
      "\n",
      "// Function to calculate the factorial of a given number\n",
      "unsigned long long factorial(int n) {\n",
      "    if (n < 0) {\n",
      "        throw std::invalid_argument(\"Factorial is not defined for negative numbers.\");\n",
      "    }\n",
      "\n",
      "    unsigned long long result = 1;\n",
      "    for (int i = 2; i <= n; ++i) {\n",
      "        result *= i;\n",
      "    }\n",
      "    return result;\n",
      "}\n",
      "\n",
      "int main() {\n",
      "    int number;\n",
      "    std::cout << \"Enter a non-negative integer: \";\n",
      "    std::cin >> number;\n",
      "\n",
      "    try {\n",
      "        unsigned long long fact = factorial(number);\n",
      "        std::cout << \"Factorial of \" << number << \" is \" << fact << std::endl;\n",
      "    } catch (const std::invalid_argument& e) {\n",
      "        std::cerr << \"Error: \" << e.what() << std::endl;\n",
      "    }\n",
      "\n",
      "    return 0;\n",
      "}\n",
      "```\n",
      "\n",
      "### Explanation:\n",
      "1. **Function `factorial`**:\n",
      "   - **Input Validation**: The function first checks if the input number is negative. If it is, it throws an `invalid_argument` exception.\n",
      "   - **Initialization**: It initializes `result` to 1, as the factorial of 0 is 1.\n",
      "   - **Loop**: It then iterates from 2 to the given number, multiplying each integer with `result` to compute the factorial.\n",
      "   - **Return**: Finally, it returns the computed factorial.\n",
      "\n",
      "2. **Main Function**:\n",
      "   - **User Input**: It prompts the user to enter a non-negative integer.\n",
      "   - **Try-Catch Block**: It calls the `factorial` function within a try-catch block to handle any potential exceptions, such as invalid input.\n",
      "   - **Output**: If the input is valid, it prints the factorial of the number. If the input is invalid, it prints an error message.\n",
      "\n",
      "This implementation is efficient and straightforward, with a time complexity of O(n), where n is the input number. It also handles edge cases, such as negative numbers, gracefully.▯"
     ]
    }
   ],
   "source": [
    "for token in model.stream(messages):\n",
    "    print('\\b'+token.content+'▯', end='')"
   ]
  },
  {
   "cell_type": "code",
   "execution_count": 23,
   "id": "8e8c36d2-34b1-4fde-b8e3-ab3a090de5fa",
   "metadata": {},
   "outputs": [
    {
     "data": {
      "text/plain": [
       "'```java\\nimport java.util.ArrayList;\\nimport java.util.List;\\n\\nclass Graph {\\n    private int vertices;\\n    private List<List<Integer>> adjacencyList;\\n\\n    public Graph(int vertices) {\\n        this.vertices = vertices;\\n        adjacencyList = new ArrayList<>(vertices);\\n        for (int i = 0; i < vertices; i++) {\\n            adjacencyList.add(new ArrayList<>());\\n        }\\n    }\\n\\n    public void addEdge(int source, int destination) {\\n        adjacencyList.get(source).add(destination);\\n    }\\n\\n    public void dfs(int startVertex) {\\n        boolean[] visited = new boolean[vertices];\\n        dfsUtil(startVertex, visited);\\n    }\\n\\n    private void dfsUtil(int vertex, boolean[] visited) {\\n        visited[vertex] = true;\\n        System.out.print(vertex + \" \");\\n\\n        for (int neighbor : adjacencyList.get(vertex)) {\\n            if (!visited[neighbor]) {\\n                dfsUtil(neighbor, visited);\\n            }\\n        }\\n    }\\n}\\n\\npublic class Main {\\n    public static void main(String[] args) {\\n        Graph graph = new Graph(5);\\n        graph.addEdge(0, 1);\\n        graph.addEdge(0, 2);\\n        graph.addEdge(1, 3);\\n        graph.addEdge(1, 4);\\n        graph.addEdge(2, 4);\\n\\n        graph.dfs(0);\\n    }\\n}\\n```'"
      ]
     },
     "execution_count": 23,
     "metadata": {},
     "output_type": "execute_result"
    }
   ],
   "source": [
    "from langchain_core.prompts import ChatPromptTemplate\n",
    "\n",
    "system_template = \"Your task is to implement in code any function the user describes. Use {language}. Always try to find the most optimal solution. Only output the program's code with no comments, even in the code itself.\"\n",
    "\n",
    "prompt_template = ChatPromptTemplate.from_messages(\n",
    "    [(\"system\", system_template), (\"user\", \"{text}\")]\n",
    ")\n",
    "\n",
    "prompt = prompt_template.invoke({\"language\": \"Java\", \"text\": \"dfs\"})\n",
    "res = model.invoke(prompt)\n",
    "res.content"
   ]
  },
  {
   "cell_type": "code",
   "execution_count": 24,
   "id": "02ab31f3-faab-4b84-8314-5f43f11b2a6d",
   "metadata": {},
   "outputs": [
    {
     "name": "stdout",
     "output_type": "stream",
     "text": [
      "```java\n",
      "import java.util.ArrayList;\n",
      "import java.util.List;\n",
      "\n",
      "class Graph {\n",
      "    private int vertices;\n",
      "    private List<List<Integer>> adjacencyList;\n",
      "\n",
      "    public Graph(int vertices) {\n",
      "        this.vertices = vertices;\n",
      "        adjacencyList = new ArrayList<>(vertices);\n",
      "        for (int i = 0; i < vertices; i++) {\n",
      "            adjacencyList.add(new ArrayList<>());\n",
      "        }\n",
      "    }\n",
      "\n",
      "    public void addEdge(int source, int destination) {\n",
      "        adjacencyList.get(source).add(destination);\n",
      "    }\n",
      "\n",
      "    public void dfs(int startVertex) {\n",
      "        boolean[] visited = new boolean[vertices];\n",
      "        dfsUtil(startVertex, visited);\n",
      "    }\n",
      "\n",
      "    private void dfsUtil(int vertex, boolean[] visited) {\n",
      "        visited[vertex] = true;\n",
      "        System.out.print(vertex + \" \");\n",
      "\n",
      "        for (int neighbor : adjacencyList.get(vertex)) {\n",
      "            if (!visited[neighbor]) {\n",
      "                dfsUtil(neighbor, visited);\n",
      "            }\n",
      "        }\n",
      "    }\n",
      "}\n",
      "\n",
      "public class Main {\n",
      "    public static void main(String[] args) {\n",
      "        Graph graph = new Graph(5);\n",
      "        graph.addEdge(0, 1);\n",
      "        graph.addEdge(0, 2);\n",
      "        graph.addEdge(1, 3);\n",
      "        graph.addEdge(1, 4);\n",
      "        graph.addEdge(2, 4);\n",
      "\n",
      "        graph.dfs(0);\n",
      "    }\n",
      "}\n",
      "```\n"
     ]
    }
   ],
   "source": [
    "print(res.content)"
   ]
  },
  {
   "cell_type": "code",
   "execution_count": null,
   "id": "ed7be6f9-138f-4f58-bfb4-53cb7014ccd6",
   "metadata": {},
   "outputs": [],
   "source": []
  }
 ],
 "metadata": {
  "kernelspec": {
   "display_name": "langchain_venv",
   "language": "python",
   "name": "langchain_venv"
  },
  "language_info": {
   "codemirror_mode": {
    "name": "ipython",
    "version": 3
   },
   "file_extension": ".py",
   "mimetype": "text/x-python",
   "name": "python",
   "nbconvert_exporter": "python",
   "pygments_lexer": "ipython3",
   "version": "3.13.5"
  }
 },
 "nbformat": 4,
 "nbformat_minor": 5
}
