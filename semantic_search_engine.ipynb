{
 "cells": [
  {
   "cell_type": "code",
   "execution_count": 1,
   "id": "664a1bbc-66bc-4a28-873f-e3ab6adf9d21",
   "metadata": {},
   "outputs": [
    {
     "data": {
      "text/plain": [
       "True"
      ]
     },
     "execution_count": 1,
     "metadata": {},
     "output_type": "execute_result"
    }
   ],
   "source": [
    "from dotenv import load_dotenv\n",
    "load_dotenv()"
   ]
  },
  {
   "cell_type": "code",
   "execution_count": 2,
   "id": "8b28baad-ad3c-42f6-8105-d39640cf7467",
   "metadata": {},
   "outputs": [
    {
     "name": "stdout",
     "output_type": "stream",
     "text": [
      "1\n"
     ]
    }
   ],
   "source": [
    "path = \"/home/herb/Documents/private/MLE_CV.pdf\"\n",
    "from langchain_community.document_loaders import PyPDFLoader\n",
    "\n",
    "loader = PyPDFLoader(path)\n",
    "documents = loader.load()\n",
    "print(len(documents))"
   ]
  },
  {
   "cell_type": "code",
   "execution_count": 5,
   "id": "85d35f26-3838-4cfa-9e95-b203eb8ae620",
   "metadata": {},
   "outputs": [
    {
     "name": "stdout",
     "output_type": "stream",
     "text": [
      "{'producer': 'pdfTeX-1.40.26', 'creator': 'LaTeX with hyperref', 'creationdate': '2025-07-14T19:25:48+00:00', 'author': '', 'keywords': '', 'moddate': '2025-07-14T19:25:48+00:00', 'ptex.fullbanner': 'This is pdfTeX, Version 3.141592653-2.6-1.40.26 (TeX Live 2024) kpathsea version 6.4.0', 'subject': '', 'title': '', 'trapped': '/False', 'source': '/home/herb/Documents/private/MLE_CV.pdf', 'total_pages': 1, 'page': 0, 'page_label': '1'}\n",
      "Matvey Kamenev\n",
      "+7 (922) 244-99-77 | mvkamenev@edu.hse.ru | t.me/rumatstone | github.com/herbitovich\n",
      "Education\n",
      "Higher School of Economics Saint-Petersburg, Russia\n",
      "Bachelor of Applied Data Analysis and \n"
     ]
    }
   ],
   "source": [
    "print(documents[0].metadata)\n",
    "print(documents[0].page_content[:200])"
   ]
  },
  {
   "cell_type": "code",
   "execution_count": 8,
   "id": "71327c87-79da-4fc1-ab76-6ed4c0f58dde",
   "metadata": {},
   "outputs": [
    {
     "name": "stdout",
     "output_type": "stream",
     "text": [
      "36\n",
      "page_content='Matvey Kamenev\n",
      "+7 (922) 244-99-77 | mvkamenev@edu.hse.ru | t.me/rumatstone | github.com/herbitovich' metadata={'producer': 'pdfTeX-1.40.26', 'creator': 'LaTeX with hyperref', 'creationdate': '2025-07-14T19:25:48+00:00', 'author': '', 'keywords': '', 'moddate': '2025-07-14T19:25:48+00:00', 'ptex.fullbanner': 'This is pdfTeX, Version 3.141592653-2.6-1.40.26 (TeX Live 2024) kpathsea version 6.4.0', 'subject': '', 'title': '', 'trapped': '/False', 'source': '/home/herb/Documents/private/MLE_CV.pdf', 'total_pages': 1, 'page': 0, 'page_label': '1', 'start_index': 0}\n"
     ]
    }
   ],
   "source": [
    "from langchain_text_splitters import RecursiveCharacterTextSplitter\n",
    "\n",
    "text_splitter = RecursiveCharacterTextSplitter(chunk_size=100, chunk_overlap=20, add_start_index=True)\n",
    "all_splits = text_splitter.split_documents(documents)\n",
    "print(len(all_splits))\n",
    "print(all_splits[0])"
   ]
  },
  {
   "cell_type": "code",
   "execution_count": 10,
   "id": "3b50e7b5-db7c-4d9e-8bc8-4747975703ed",
   "metadata": {},
   "outputs": [
    {
     "name": "stderr",
     "output_type": "stream",
     "text": [
      "/home/herb/Documents/programming/langchain_learning/langchain_venv/lib64/python3.13/site-packages/tqdm/auto.py:21: TqdmWarning: IProgress not found. Please update jupyter and ipywidgets. See https://ipywidgets.readthedocs.io/en/stable/user_install.html\n",
      "  from .autonotebook import tqdm as notebook_tqdm\n",
      "/home/herb/Documents/programming/langchain_learning/langchain_venv/lib64/python3.13/site-packages/langchain_mistralai/embeddings.py:186: UserWarning: Could not download mistral tokenizer from Huggingface for calculating batch sizes. Set a Huggingface token via the HF_TOKEN environment variable to download the real tokenizer. Falling back to a dummy tokenizer that uses `len()`.\n",
      "  warnings.warn(\n"
     ]
    }
   ],
   "source": [
    "from langchain_mistralai import MistralAIEmbeddings\n",
    "embeddings = MistralAIEmbeddings(model=\"mistral-embed\")"
   ]
  },
  {
   "cell_type": "code",
   "execution_count": 15,
   "id": "b53afb75-e5ef-4586-ada4-77efcbb40407",
   "metadata": {},
   "outputs": [],
   "source": [
    "from langchain_core.vectorstores import InMemoryVectorStore\n",
    "\n",
    "vector_store = InMemoryVectorStore(embeddings)"
   ]
  },
  {
   "cell_type": "code",
   "execution_count": 16,
   "id": "9ab13bec-5973-4bf6-98d4-a904bbb5e464",
   "metadata": {},
   "outputs": [
    {
     "data": {
      "text/plain": [
       "['29cfa493-915c-47f5-a4a7-4cd785f08e5d',\n",
       " 'd5b9093d-bff3-40c7-b51f-72de05995c89',\n",
       " '0e3af806-b45d-4b4c-994f-b1c5111e54e2',\n",
       " 'f873570a-1c84-464a-8fe7-ea1be8936413',\n",
       " 'accf7df6-10e4-467e-a73d-8d45c95554a1',\n",
       " '2d7bf748-23d5-4f40-a27a-b349f5762f7f',\n",
       " '31f765ac-39af-48b4-8ef5-75e696a452bc',\n",
       " '488dbf33-3410-40e4-8459-018715290c3b',\n",
       " '2b50cbfe-af8a-49a6-8b45-753b5565f09b',\n",
       " 'b4e6f67c-626b-4285-8873-af0e2fdeef6e',\n",
       " '9541c990-a6bf-4ef7-83f6-622485b49df1',\n",
       " '58ecc5ee-888c-4de5-91cc-5ad63340685e',\n",
       " 'ea624588-d9cf-4790-a942-6ad7a67f0f17',\n",
       " 'c41cde35-f6c7-4fcb-9851-669f3a5dfcb6',\n",
       " '1cbcd196-c94d-4716-a47b-6b5e15471723',\n",
       " 'd277c9e9-b32f-491c-887f-e5a10b6648e3',\n",
       " '52be86ca-7ca0-4946-9573-4e851c2a7393',\n",
       " '6387f4cd-f918-47d0-9ffb-c81909cc3370',\n",
       " '68c59f7d-14db-473f-9321-49bdc0dc356c',\n",
       " '7c1cc549-8357-422d-80a7-45d09b09484c',\n",
       " 'c472003a-dc55-4c26-bbfe-afce235e276e',\n",
       " '19cabce1-5b11-452e-9632-2eae1939bb31',\n",
       " '6a1bcb8b-8715-4cab-833b-78be6aed0b7e',\n",
       " 'be08fc8e-4297-4c82-a847-f55cc3b9f1b2',\n",
       " '3d764691-15d5-474a-b332-7c5f4682699f',\n",
       " '82ef2012-2023-4775-ad44-4a04dc88fbc1',\n",
       " '831898d1-c2e5-48be-bf00-76bb98026692',\n",
       " '2df4dae6-357c-4f11-be3d-62a76600113d',\n",
       " 'abfe1039-cdfe-483f-bfb0-a9e98ff1659e',\n",
       " 'bf4b8d16-d425-4ae8-b604-80ab0e0099a7',\n",
       " '50862b58-eca4-4998-8ef9-0869eb7e6add',\n",
       " '4b460a0d-073e-4cdd-a934-bd5acccee113',\n",
       " '5b080d9f-18c6-4c41-96b3-09bd70f98db1',\n",
       " 'f53f4944-4d8e-4330-bf04-958ecc8b4325',\n",
       " '70534bd1-a704-4e98-b85b-ded30038d838',\n",
       " '1498b977-7202-4fe9-95e1-2ca803023681']"
      ]
     },
     "execution_count": 16,
     "metadata": {},
     "output_type": "execute_result"
    }
   ],
   "source": [
    "vector_store.add_documents(all_splits)"
   ]
  },
  {
   "cell_type": "code",
   "execution_count": 19,
   "id": "a257fdfb-9273-42f4-abfd-b7f2bd27ef0f",
   "metadata": {},
   "outputs": [
    {
     "data": {
      "text/plain": [
       "'Frameworks: PyTorch, TensorFlow, FastAI, FastAPI, Django, Django REST, Flask'"
      ]
     },
     "execution_count": 19,
     "metadata": {},
     "output_type": "execute_result"
    }
   ],
   "source": [
    "results = vector_store.similarity_search(\n",
    "    \"What frameworks is Matvey profficient in?\",\n",
    "    k = 1\n",
    ")\n",
    "results[0].page_content"
   ]
  },
  {
   "cell_type": "code",
   "execution_count": 35,
   "id": "be7c2696-fccb-4dd6-b1a9-ad8775e27ed7",
   "metadata": {},
   "outputs": [
    {
     "name": "stdout",
     "output_type": "stream",
     "text": [
      "RES\n",
      "• Developed various web applications using the Django w/ PostgreSQL stack\n",
      "0.7942863968081733\n",
      "RES\n",
      "Frameworks: PyTorch, TensorFlow, FastAI, FastAPI, Django, Django REST, Flask\n",
      "0.7626423571714511\n",
      "RES\n",
      "Matvey Kamenev\n",
      "+7 (922) 244-99-77 | mvkamenev@edu.hse.ru | t.me/rumatstone | github.com/herbitovich\n",
      "0.739381778239946\n"
     ]
    }
   ],
   "source": [
    "results = vector_store.similarity_search_with_score(\n",
    "    \"What framework did Matvey use in web development?\",\n",
    "    k = 3\n",
    ")\n",
    "for res in results:\n",
    "    doc, score = res\n",
    "    print(\"RES\")\n",
    "    print(doc.page_content)\n",
    "    print(score)"
   ]
  },
  {
   "cell_type": "code",
   "execution_count": 36,
   "id": "91e42b4b-9485-4c7f-a29d-3633027576ed",
   "metadata": {},
   "outputs": [
    {
     "data": {
      "text/plain": [
       "[[Document(id='f53f4944-4d8e-4330-bf04-958ecc8b4325', metadata={'producer': 'pdfTeX-1.40.26', 'creator': 'LaTeX with hyperref', 'creationdate': '2025-07-14T19:25:48+00:00', 'author': '', 'keywords': '', 'moddate': '2025-07-14T19:25:48+00:00', 'ptex.fullbanner': 'This is pdfTeX, Version 3.141592653-2.6-1.40.26 (TeX Live 2024) kpathsea version 6.4.0', 'subject': '', 'title': '', 'trapped': '/False', 'source': '/home/herb/Documents/private/MLE_CV.pdf', 'total_pages': 1, 'page': 0, 'page_label': '1', 'start_index': 2229}, page_content='Frameworks: PyTorch, TensorFlow, FastAI, FastAPI, Django, Django REST, Flask')],\n",
       " [Document(id='7c1cc549-8357-422d-80a7-45d09b09484c', metadata={'producer': 'pdfTeX-1.40.26', 'creator': 'LaTeX with hyperref', 'creationdate': '2025-07-14T19:25:48+00:00', 'author': '', 'keywords': '', 'moddate': '2025-07-14T19:25:48+00:00', 'ptex.fullbanner': 'This is pdfTeX, Version 3.141592653-2.6-1.40.26 (TeX Live 2024) kpathsea version 6.4.0', 'subject': '', 'title': '', 'trapped': '/False', 'source': '/home/herb/Documents/private/MLE_CV.pdf', 'total_pages': 1, 'page': 0, 'page_label': '1', 'start_index': 1317}, page_content='• Developed various web applications using the Django w/ PostgreSQL stack')]]"
      ]
     },
     "execution_count": 36,
     "metadata": {},
     "output_type": "execute_result"
    }
   ],
   "source": [
    "from langchain_core.runnables import chain\n",
    "\n",
    "@chain\n",
    "def retriever(query):\n",
    "    return vector_store.similarity_search(query, k=1)\n",
    "\n",
    "retriever.batch([\n",
    "    \"What frameworks is Matvey profficient in?\",\n",
    "    \"What framework did Matvey use in web development?\",\n",
    "])"
   ]
  },
  {
   "cell_type": "code",
   "execution_count": 38,
   "id": "d46b2b0d-a41b-4ffb-b172-6e44ab8c12d0",
   "metadata": {},
   "outputs": [
    {
     "data": {
      "text/plain": [
       "[[Document(id='f53f4944-4d8e-4330-bf04-958ecc8b4325', metadata={'producer': 'pdfTeX-1.40.26', 'creator': 'LaTeX with hyperref', 'creationdate': '2025-07-14T19:25:48+00:00', 'author': '', 'keywords': '', 'moddate': '2025-07-14T19:25:48+00:00', 'ptex.fullbanner': 'This is pdfTeX, Version 3.141592653-2.6-1.40.26 (TeX Live 2024) kpathsea version 6.4.0', 'subject': '', 'title': '', 'trapped': '/False', 'source': '/home/herb/Documents/private/MLE_CV.pdf', 'total_pages': 1, 'page': 0, 'page_label': '1', 'start_index': 2229}, page_content='Frameworks: PyTorch, TensorFlow, FastAI, FastAPI, Django, Django REST, Flask')],\n",
       " [Document(id='7c1cc549-8357-422d-80a7-45d09b09484c', metadata={'producer': 'pdfTeX-1.40.26', 'creator': 'LaTeX with hyperref', 'creationdate': '2025-07-14T19:25:48+00:00', 'author': '', 'keywords': '', 'moddate': '2025-07-14T19:25:48+00:00', 'ptex.fullbanner': 'This is pdfTeX, Version 3.141592653-2.6-1.40.26 (TeX Live 2024) kpathsea version 6.4.0', 'subject': '', 'title': '', 'trapped': '/False', 'source': '/home/herb/Documents/private/MLE_CV.pdf', 'total_pages': 1, 'page': 0, 'page_label': '1', 'start_index': 1317}, page_content='• Developed various web applications using the Django w/ PostgreSQL stack')]]"
      ]
     },
     "execution_count": 38,
     "metadata": {},
     "output_type": "execute_result"
    }
   ],
   "source": [
    "retriever = vector_store.as_retriever(\n",
    "    search_type=\"similarity\",\n",
    "    search_kwargs={\"k\":1}\n",
    ")\n",
    "\n",
    "retriever.batch([\n",
    "    \"What frameworks is Matvey profficient in?\",\n",
    "    \"What framework did Matvey use in web development?\",\n",
    "])"
   ]
  },
  {
   "cell_type": "code",
   "execution_count": null,
   "id": "b5dd924f-2d47-4702-b4cb-c7aa883141a4",
   "metadata": {},
   "outputs": [],
   "source": []
  }
 ],
 "metadata": {
  "kernelspec": {
   "display_name": "langchain_venv",
   "language": "python",
   "name": "langchain_venv"
  },
  "language_info": {
   "codemirror_mode": {
    "name": "ipython",
    "version": 3
   },
   "file_extension": ".py",
   "mimetype": "text/x-python",
   "name": "python",
   "nbconvert_exporter": "python",
   "pygments_lexer": "ipython3",
   "version": "3.13.5"
  }
 },
 "nbformat": 4,
 "nbformat_minor": 5
}
